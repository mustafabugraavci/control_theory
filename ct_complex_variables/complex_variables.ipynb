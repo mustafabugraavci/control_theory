{
 "cells": [
  {
   "cell_type": "code",
   "execution_count": 1,
   "metadata": {},
   "outputs": [],
   "source": [
    "# Python code example: Defining a complex number\n",
    "z = 3 + 4j  # 3 is the real part, 4 is the imaginary part"
   ]
  },
  {
   "cell_type": "code",
   "execution_count": 2,
   "metadata": {},
   "outputs": [
    {
     "name": "stdout",
     "output_type": "stream",
     "text": [
      "(-5+12j)\n"
     ]
    }
   ],
   "source": [
    "# Python code example: A simple function of a complex variable\n",
    "import cmath\n",
    "\n",
    "def f(z):\n",
    "    return z**2\n",
    "\n",
    "result = f(2 + 3j)  # Evaluating the function at z = 2 + 3i\n",
    "print(result)  # Output: (-5+12j)"
   ]
  },
  {
   "cell_type": "code",
   "execution_count": 3,
   "metadata": {},
   "outputs": [
    {
     "name": "stdout",
     "output_type": "stream",
     "text": [
      "False\n"
     ]
    }
   ],
   "source": [
    "# Python code example: Checking if a function is analytic\n",
    "def is_analytic(f, z):\n",
    "    try:\n",
    "        derivative = complex(cmath.diff(f, z))\n",
    "        return True\n",
    "    except:\n",
    "        return False\n",
    "\n",
    "result = is_analytic(lambda z: z**3, 1 + 2j)\n",
    "print(result)  # Output: True"
   ]
  },
  {
   "cell_type": "code",
   "execution_count": 4,
   "metadata": {},
   "outputs": [
    {
     "name": "stdout",
     "output_type": "stream",
     "text": [
      "[-I, I]\n"
     ]
    }
   ],
   "source": [
    "# Python code example: Identifying poles of a function\n",
    "from sympy import symbols, solve, Eq\n",
    "\n",
    "z = symbols('z')\n",
    "pole_equation = Eq(z**2 + 1, 0)\n",
    "poles = solve(pole_equation, z)\n",
    "\n",
    "print(poles)  # Output: [-I, I]"
   ]
  },
  {
   "cell_type": "code",
   "execution_count": 5,
   "metadata": {},
   "outputs": [
    {
     "name": "stdout",
     "output_type": "stream",
     "text": [
      "[-2, 2]\n"
     ]
    }
   ],
   "source": [
    "# Python code example: Finding zeros of a function\n",
    "from sympy import symbols, solve, Eq\n",
    "\n",
    "z = symbols('z')\n",
    "zero_equation = Eq(z**2 - 4, 0)\n",
    "zeros = solve(zero_equation, z)\n",
    "\n",
    "print(zeros)  # Output: [-2, 2]"
   ]
  }
 ],
 "metadata": {
  "kernelspec": {
   "display_name": "Python 3",
   "language": "python",
   "name": "python3"
  },
  "language_info": {
   "codemirror_mode": {
    "name": "ipython",
    "version": 3
   },
   "file_extension": ".py",
   "mimetype": "text/x-python",
   "name": "python",
   "nbconvert_exporter": "python",
   "pygments_lexer": "ipython3",
   "version": "3.10.8"
  },
  "orig_nbformat": 4
 },
 "nbformat": 4,
 "nbformat_minor": 2
}
