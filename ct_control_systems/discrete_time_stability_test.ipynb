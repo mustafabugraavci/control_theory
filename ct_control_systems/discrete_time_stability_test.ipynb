{
 "cells": [
  {
   "cell_type": "code",
   "execution_count": 1,
   "metadata": {},
   "outputs": [
    {
     "name": "stdout",
     "output_type": "stream",
     "text": [
      "The system is unstable.\n"
     ]
    }
   ],
   "source": [
    "import numpy as np\n",
    "\n",
    "def jury_test(polynomial):\n",
    "    n = len(polynomial) - 1\n",
    "    table = [polynomial]\n",
    "    for i in range(n, 0, -1):\n",
    "        row = np.polynomial.polynomial.polydiv(table[-1], [1, -1])[0][-i:]\n",
    "        table.append(row)\n",
    "        if np.abs(row[0]) >= np.abs(row[-1]):\n",
    "            return False\n",
    "    return True\n",
    "\n",
    "# Define the polynomial coefficients of the system's characteristic equation\n",
    "polynomial = [1, -1.5, 0.75, -0.125]\n",
    "stability = jury_test(polynomial)\n",
    "print(f\"The system is {'stable' if stability else 'unstable'}.\")"
   ]
  }
 ],
 "metadata": {
  "kernelspec": {
   "display_name": "Python 3",
   "language": "python",
   "name": "python3"
  },
  "language_info": {
   "codemirror_mode": {
    "name": "ipython",
    "version": 3
   },
   "file_extension": ".py",
   "mimetype": "text/x-python",
   "name": "python",
   "nbconvert_exporter": "python",
   "pygments_lexer": "ipython3",
   "version": "3.10.8"
  }
 },
 "nbformat": 4,
 "nbformat_minor": 2
}
