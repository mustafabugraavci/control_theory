{
 "cells": [
  {
   "cell_type": "code",
   "execution_count": 2,
   "metadata": {},
   "outputs": [
    {
     "data": {
      "text/plain": [
       "'Unstable'"
      ]
     },
     "execution_count": 2,
     "metadata": {},
     "output_type": "execute_result"
    }
   ],
   "source": [
    "import numpy as np\n",
    "\n",
    "def routh_hurwitz(coefficients):\n",
    "    # Initialize the Routh array with empty lists\n",
    "    routh_array = [[] for _ in range(len(coefficients))]\n",
    "\n",
    "    # Fill the first two rows of the Routh array\n",
    "    routh_array[0] = coefficients[::2]  # even-indexed coefficients\n",
    "    routh_array[1] = coefficients[1::2]  # odd-indexed coefficients\n",
    "\n",
    "    # Ensure the second row has the same number of elements as the first row\n",
    "    if len(routh_array[1]) < len(routh_array[0]):\n",
    "        routh_array[1].append(0)\n",
    "\n",
    "    # Construct the rest of the Routh array\n",
    "    for i in range(2, len(coefficients)):\n",
    "        for j in range(len(routh_array[i-1]) - 1):\n",
    "            # Calculate the element based on the Routh-Hurwitz criterion\n",
    "            a = routh_array[i-2][0] * routh_array[i-1][j+1] - routh_array[i-2][j+1] * routh_array[i-1][0]\n",
    "            b = routh_array[i-1][0]\n",
    "            # Append the calculated element to the current row\n",
    "            routh_array[i].append(a / b if b != 0 else 0)\n",
    "\n",
    "    # Determine stability by checking the sign changes in the first column\n",
    "    first_col = [row[0] for row in routh_array if row]  # Exclude empty rows\n",
    "    sign_changes = sum(np.sign(first_col[i]) != np.sign(first_col[i+1]) for i in range(len(first_col) - 1))\n",
    "    return \"Stable\" if sign_changes == 0 else \"Unstable\"\n",
    "\n",
    "# Test the function with a set of coefficients\n",
    "coefficients = [1, 3, 2, 6]\n",
    "stability = routh_hurwitz(coefficients)\n",
    "stability\n"
   ]
  }
 ],
 "metadata": {
  "kernelspec": {
   "display_name": "Python 3",
   "language": "python",
   "name": "python3"
  },
  "language_info": {
   "codemirror_mode": {
    "name": "ipython",
    "version": 3
   },
   "file_extension": ".py",
   "mimetype": "text/x-python",
   "name": "python",
   "nbconvert_exporter": "python",
   "pygments_lexer": "ipython3",
   "version": "3.10.8"
  }
 },
 "nbformat": 4,
 "nbformat_minor": 2
}
