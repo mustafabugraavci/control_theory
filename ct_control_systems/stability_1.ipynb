{
 "cells": [
  {
   "cell_type": "code",
   "execution_count": 15,
   "metadata": {},
   "outputs": [
    {
     "name": "stdout",
     "output_type": "stream",
     "text": [
      "The system is stable under limited input and output.\n",
      "Gain Margin: inf\n",
      "Phase Margin: inf degrees\n",
      "Crossover Frequency: 0.9657297883308373 rad/s\n"
     ]
    }
   ],
   "source": [
    "import control as ctrl\n",
    "\n",
    "# Define the system transfer function coefficients\n",
    "numerator = [1]\n",
    "denominator = [1, 4, 2]  # Example coefficients, adjust based on the system\n",
    "\n",
    "# Create the transfer function\n",
    "system = ctrl.TransferFunction(numerator, denominator)\n",
    "\n",
    "# Check stability using stability margins\n",
    "gain_margin, phase_margin, crossover_frequency, _, _, _ = ctrl.stability_margins(system)\n",
    "\n",
    "# Determine stability status\n",
    "if gain_margin > 1 and phase_margin > 30:\n",
    "    print(\"The system is stable under limited input and output.\")\n",
    "    print(f\"Gain Margin: {gain_margin}\")\n",
    "    print(f\"Phase Margin: {phase_margin} degrees\")\n",
    "    print(f\"Crossover Frequency: {crossover_frequency} rad/s\")\n",
    "else:\n",
    "    print(\"The system is not stable under limited input and output.\")\n"
   ]
  }
 ],
 "metadata": {
  "kernelspec": {
   "display_name": "Python 3",
   "language": "python",
   "name": "python3"
  },
  "language_info": {
   "codemirror_mode": {
    "name": "ipython",
    "version": 3
   },
   "file_extension": ".py",
   "mimetype": "text/x-python",
   "name": "python",
   "nbconvert_exporter": "python",
   "pygments_lexer": "ipython3",
   "version": "3.10.8"
  }
 },
 "nbformat": 4,
 "nbformat_minor": 2
}
