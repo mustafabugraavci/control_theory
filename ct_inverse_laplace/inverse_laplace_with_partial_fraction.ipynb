{
 "cells": [
  {
   "cell_type": "code",
   "execution_count": 1,
   "metadata": {},
   "outputs": [
    {
     "name": "stdout",
     "output_type": "stream",
     "text": [
      "Inverse Laplace Transform Result:\n"
     ]
    },
    {
     "data": {
      "text/plain": [
       "'            -2⋅t     \\nA⋅θ(t) + B⋅ℯ    ⋅θ(t)'"
      ]
     },
     "execution_count": 1,
     "metadata": {},
     "output_type": "execute_result"
    }
   ],
   "source": [
    "# Python code example: Partial Fraction Decomposition and Inverse Laplace Transform using SymPy\n",
    "\n",
    "import sympy as sp\n",
    "from sympy.integrals.transforms import inverse_laplace_transform\n",
    "from sympy.abc import s, t\n",
    "\n",
    "# Define the Laplace representation F(s)\n",
    "Fs = 1 / (s * (s + 2))\n",
    "\n",
    "# Perform Partial Fraction Decomposition\n",
    "A, B = sp.symbols('A B')\n",
    "partial_frac = A / s + B / (s + 2)\n",
    "\n",
    "# Apply the Inverse Laplace Transform\n",
    "time_domain_result = inverse_laplace_transform(partial_frac, s, t)\n",
    "print(\"Inverse Laplace Transform Result:\")\n",
    "sp.pretty(time_domain_result, use_unicode=True)"
   ]
  }
 ],
 "metadata": {
  "kernelspec": {
   "display_name": "Python 3",
   "language": "python",
   "name": "python3"
  },
  "language_info": {
   "codemirror_mode": {
    "name": "ipython",
    "version": 3
   },
   "file_extension": ".py",
   "mimetype": "text/x-python",
   "name": "python",
   "nbconvert_exporter": "python",
   "pygments_lexer": "ipython3",
   "version": "3.10.8"
  },
  "orig_nbformat": 4
 },
 "nbformat": 4,
 "nbformat_minor": 2
}
