{
 "cells": [
  {
   "cell_type": "code",
   "execution_count": 4,
   "metadata": {},
   "outputs": [
    {
     "name": "stdout",
     "output_type": "stream",
     "text": [
      "Laplace Transform of f(t): 2/s**3\n",
      "Inverse Laplace Transform of F(s) to recover f(t): InverseLaplaceTransform(Y(s), s, t, _None)\n"
     ]
    }
   ],
   "source": [
    "# Python code example: Laplace Transform and Inverse Laplace Transform using SymPy (Alternative Approach)\n",
    "from sympy import symbols, Function, LaplaceTransform, inverse_laplace_transform\n",
    "\n",
    "# Define the symbols and the dependent variable\n",
    "t, s = symbols('t s')\n",
    "Y = Function('Y')(s)\n",
    "\n",
    "# Define a time-domain function\n",
    "f_t = t**2\n",
    "\n",
    "# Calculate the Laplace Transform\n",
    "F_s = LaplaceTransform(f_t, t, s).doit()\n",
    "print(\"Laplace Transform of f(t):\", F_s)\n",
    "\n",
    "# Calculate the Inverse Laplace Transform to recover the original function\n",
    "f_recovered = inverse_laplace_transform(Y, s, t)\n",
    "print(\"Inverse Laplace Transform of F(s) to recover f(t):\", f_recovered)"
   ]
  }
 ],
 "metadata": {
  "kernelspec": {
   "display_name": "Python 3",
   "language": "python",
   "name": "python3"
  },
  "language_info": {
   "codemirror_mode": {
    "name": "ipython",
    "version": 3
   },
   "file_extension": ".py",
   "mimetype": "text/x-python",
   "name": "python",
   "nbconvert_exporter": "python",
   "pygments_lexer": "ipython3",
   "version": "3.10.8"
  },
  "orig_nbformat": 4
 },
 "nbformat": 4,
 "nbformat_minor": 2
}
