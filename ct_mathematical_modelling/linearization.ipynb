{
 "cells": [
  {
   "cell_type": "code",
   "execution_count": 6,
   "metadata": {},
   "outputs": [
    {
     "name": "stdout",
     "output_type": "stream",
     "text": [
      "Linearized Equation 1: 2*x + y**3\n",
      "Linearized Equation 2: x*y + x\n"
     ]
    }
   ],
   "source": [
    "import sympy as sp\n",
    "\n",
    "# Define symbols\n",
    "x, y = sp.symbols('x y')\n",
    "\n",
    "# Define nonlinear system equations\n",
    "eq1 = x**2 + y**2 - 1  # Nonlinear equation 1\n",
    "eq2 = x - y**2          # Nonlinear equation 2\n",
    "\n",
    "# Define operating point\n",
    "x_0, y_0 = 1, 0\n",
    "\n",
    "# Perform Taylor series expansion around the operating point\n",
    "taylor_series_eq1 = eq1.series(x, x0=x_0, n=2).removeO()\n",
    "taylor_series_eq2 = eq2.series(x, x0=x_0, n=2).removeO()\n",
    "\n",
    "# Get linear coefficients\n",
    "linear_eq1_coeffs = [taylor_series_eq1.coeff(x**i) for i in range(2)]\n",
    "linear_eq2_coeffs = [taylor_series_eq2.coeff(x**i) for i in range(2)]\n",
    "\n",
    "# Linearized system equations\n",
    "linear_eq1 = linear_eq1_coeffs[1] * x + linear_eq1_coeffs[0] * y\n",
    "linear_eq2 = linear_eq2_coeffs[1] * x + linear_eq2_coeffs[0] * y\n",
    "\n",
    "# Output linearized equations\n",
    "print(\"Linearized Equation 1:\", linear_eq1)\n",
    "print(\"Linearized Equation 2:\", linear_eq2)"
   ]
  },
  {
   "cell_type": "code",
   "execution_count": 2,
   "metadata": {},
   "outputs": [
    {
     "name": "stdout",
     "output_type": "stream",
     "text": [
      "Jacobian Matrix at Operating Point:\n",
      "Matrix([[2, 0], [1, 0]])\n"
     ]
    }
   ],
   "source": [
    "# Define nonlinear system equations\n",
    "eq1 = x**2 + y**2 - 1\n",
    "eq2 = x - y**2\n",
    "\n",
    "# Compute Jacobian matrix\n",
    "jacobian_matrix = sp.Matrix([[eq1.diff(x), eq1.diff(y)], [eq2.diff(x), eq2.diff(y)]])\n",
    "\n",
    "# Evaluate Jacobian matrix at the operating point\n",
    "jacobian_at_point = jacobian_matrix.subs([(x, x_0), (y, y_0)])\n",
    "\n",
    "# Output Jacobian matrix at the operating point\n",
    "print(\"Jacobian Matrix at Operating Point:\")\n",
    "print(jacobian_at_point)"
   ]
  },
  {
   "cell_type": "code",
   "execution_count": 3,
   "metadata": {},
   "outputs": [
    {
     "name": "stdout",
     "output_type": "stream",
     "text": [
      "Linearized A Matrix:\n",
      "Matrix([[2, 0], [1, 0]])\n",
      "Linearized B Matrix:\n",
      "Matrix([[0], [0]])\n"
     ]
    }
   ],
   "source": [
    "# Define state variables\n",
    "x, y, dx, dy = sp.symbols('x y dx dy')\n",
    "\n",
    "# Define nonlinear state space equations\n",
    "x_dot = x**2 + y**2\n",
    "y_dot = x - y**2\n",
    "\n",
    "# Linearize state space equations around the operating point\n",
    "A = sp.Matrix([[x_dot.diff(x), x_dot.diff(y)], [y_dot.diff(x), y_dot.diff(y)]])\n",
    "B = sp.Matrix([[x_dot.diff(dx)], [y_dot.diff(dy)]])\n",
    "\n",
    "# Evaluate A and B matrices at the operating point\n",
    "A_linearized = A.subs([(x, x_0), (y, y_0)])\n",
    "B_linearized = B.subs([(x, x_0), (y, y_0)])\n",
    "\n",
    "# Output linearized A and B matrices\n",
    "print(\"Linearized A Matrix:\")\n",
    "print(A_linearized)\n",
    "print(\"Linearized B Matrix:\")\n",
    "print(B_linearized)"
   ]
  }
 ],
 "metadata": {
  "kernelspec": {
   "display_name": "Python 3",
   "language": "python",
   "name": "python3"
  },
  "language_info": {
   "codemirror_mode": {
    "name": "ipython",
    "version": 3
   },
   "file_extension": ".py",
   "mimetype": "text/x-python",
   "name": "python",
   "nbconvert_exporter": "python",
   "pygments_lexer": "ipython3",
   "version": "3.10.8"
  }
 },
 "nbformat": 4,
 "nbformat_minor": 2
}
