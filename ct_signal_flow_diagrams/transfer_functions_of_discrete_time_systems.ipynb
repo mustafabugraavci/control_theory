{
 "cells": [
  {
   "cell_type": "code",
   "execution_count": 1,
   "metadata": {},
   "outputs": [
    {
     "name": "stdout",
     "output_type": "stream",
     "text": [
      "Overall Transfer Function Coefficients:\n",
      "Numerator Coefficients: [1 5 6]\n",
      "Denominator Coefficients: [ 1 -1 -2  2]\n"
     ]
    }
   ],
   "source": [
    "import scipy.signal as signal\n",
    "\n",
    "# Define transfer functions of individual elements\n",
    "numerator_1 = [1, 2]  # Coefficients of the first element's numerator\n",
    "denominator_1 = [1, -1]  # Coefficients of the first element's denominator\n",
    "\n",
    "numerator_2 = [1, 3]  # Coefficients of the second element's numerator\n",
    "denominator_2 = [1, 0, -2]  # Coefficients of the second element's denominator\n",
    "\n",
    "# Calculate overall transfer function\n",
    "numerator, denominator = signal.convolve(numerator_1, numerator_2), signal.convolve(denominator_1, denominator_2)\n",
    "overall_transfer_function = signal.TransferFunction(numerator, denominator, dt=1.0)  # dt represents the time step\n",
    "\n",
    "print(\"Overall Transfer Function Coefficients:\")\n",
    "print(\"Numerator Coefficients:\", numerator)\n",
    "print(\"Denominator Coefficients:\", denominator)"
   ]
  },
  {
   "cell_type": "code",
   "execution_count": 2,
   "metadata": {},
   "outputs": [
    {
     "name": "stdout",
     "output_type": "stream",
     "text": [
      "Closed-Loop Transfer Function Coefficients:\n",
      "Numerator Coefficients: [0.2]\n",
      "Denominator Coefficients: [ 1.  -0.5]\n"
     ]
    }
   ],
   "source": [
    "# Define open-loop transfer function\n",
    "numerator_open = [1]  # Coefficients of the open-loop transfer function's numerator\n",
    "denominator_open = [1, -0.5]  # Coefficients of the open-loop transfer function's denominator\n",
    "\n",
    "# Define feedback transfer function\n",
    "numerator_feedback = [0.2]  # Coefficients of the feedback transfer function's numerator\n",
    "denominator_feedback = [1]  # Coefficients of the feedback transfer function's denominator\n",
    "\n",
    "# Calculate closed-loop transfer function\n",
    "numerator_closed, denominator_closed = signal.convolve(numerator_open, numerator_feedback), signal.convolve(denominator_open, denominator_feedback)\n",
    "closed_loop_transfer_function = signal.TransferFunction(numerator_closed, denominator_closed, dt=1.0)\n",
    "\n",
    "print(\"Closed-Loop Transfer Function Coefficients:\")\n",
    "print(\"Numerator Coefficients:\", numerator_closed)\n",
    "print(\"Denominator Coefficients:\", denominator_closed)"
   ]
  }
 ],
 "metadata": {
  "kernelspec": {
   "display_name": "Python 3",
   "language": "python",
   "name": "python3"
  },
  "language_info": {
   "codemirror_mode": {
    "name": "ipython",
    "version": 3
   },
   "file_extension": ".py",
   "mimetype": "text/x-python",
   "name": "python",
   "nbconvert_exporter": "python",
   "pygments_lexer": "ipython3",
   "version": "3.10.8"
  }
 },
 "nbformat": 4,
 "nbformat_minor": 2
}
