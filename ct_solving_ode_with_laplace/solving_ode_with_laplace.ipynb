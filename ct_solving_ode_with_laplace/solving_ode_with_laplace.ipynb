{
 "cells": [
  {
   "cell_type": "code",
   "execution_count": 1,
   "metadata": {},
   "outputs": [
    {
     "name": "stdout",
     "output_type": "stream",
     "text": [
      "Laplace Transform of the ODE:\n"
     ]
    },
    {
     "data": {
      "text/plain": [
       "'⎛                                            f         ⎞\\n⎜a⋅(s⋅LaplaceTransform(y(t), t, s) - y(0)) - ─, 0, True⎟\\n⎝                                            s         ⎠'"
      ]
     },
     "execution_count": 1,
     "metadata": {},
     "output_type": "execute_result"
    }
   ],
   "source": [
    "# Python code example: Solving a First-Order Linear ODE using Laplace Transform\n",
    "\n",
    "import sympy as sp\n",
    "from sympy.integrals.transforms import laplace_transform\n",
    "from sympy.abc import t, s\n",
    "\n",
    "# Define variables and functions\n",
    "y = sp.Function('y')\n",
    "t, s = sp.symbols('t s')\n",
    "a, f = sp.symbols('a f', real=True)\n",
    "\n",
    "# Define a simple first-order linear ODE\n",
    "ode = sp.Eq(a * y(t).diff(t) - f, 0)\n",
    "\n",
    "# Apply the Laplace Transform\n",
    "laplace_ode = laplace_transform(ode.lhs - ode.rhs, t, s)\n",
    "print(\"Laplace Transform of the ODE:\")\n",
    "sp.pretty(laplace_ode, use_unicode=True)"
   ]
  },
  {
   "cell_type": "code",
   "execution_count": 3,
   "metadata": {},
   "outputs": [
    {
     "name": "stdout",
     "output_type": "stream",
     "text": [
      "No solutions found for the Laplace-transformed ODE.\n"
     ]
    }
   ],
   "source": [
    "# Solving the Laplace-Transformed ODE\n",
    "Y = sp.Function('Y')(s)\n",
    "solved_ode = sp.solve(laplace_ode, Y)\n",
    "\n",
    "if solved_ode:\n",
    "    print(\"\\nSolved ODE in Laplace Domain:\")\n",
    "    sp.pretty(solved_ode[0], use_unicode=True)\n",
    "\n",
    "    # Apply Inverse Laplace Transform to find the solution in the time domain\n",
    "    solution_time_domain = sp.inverse_laplace_transform(solved_ode[0], s, t)\n",
    "    print(\"\\nSolution in the Time Domain:\")\n",
    "    sp.pretty(solution_time_domain, use_unicode=True)\n",
    "else:\n",
    "    print(\"No solutions found for the Laplace-transformed ODE.\")"
   ]
  }
 ],
 "metadata": {
  "kernelspec": {
   "display_name": "Python 3",
   "language": "python",
   "name": "python3"
  },
  "language_info": {
   "codemirror_mode": {
    "name": "ipython",
    "version": 3
   },
   "file_extension": ".py",
   "mimetype": "text/x-python",
   "name": "python",
   "nbconvert_exporter": "python",
   "pygments_lexer": "ipython3",
   "version": "3.10.8"
  },
  "orig_nbformat": 4
 },
 "nbformat": 4,
 "nbformat_minor": 2
}
