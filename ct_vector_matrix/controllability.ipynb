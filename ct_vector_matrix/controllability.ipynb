{
 "cells": [
  {
   "cell_type": "code",
   "execution_count": null,
   "metadata": {},
   "outputs": [],
   "source": [
    "!pip install control"
   ]
  },
  {
   "cell_type": "code",
   "execution_count": 3,
   "metadata": {},
   "outputs": [
    {
     "name": "stdout",
     "output_type": "stream",
     "text": [
      "The system is controllable.\n"
     ]
    }
   ],
   "source": [
    "import control as ctrl\n",
    "import numpy as np\n",
    "\n",
    "# Define the system matrices A, B\n",
    "A = np.array([[1, 2],\n",
    "              [3, 4]])\n",
    "B = np.array([[1],\n",
    "              [1]])\n",
    "\n",
    "# Check controllability\n",
    "controllable = ctrl.ctrb(A, B)\n",
    "\n",
    "# Determine system controllability\n",
    "if np.linalg.matrix_rank(controllable) == A.shape[0]:\n",
    "    print(\"The system is controllable.\")\n",
    "else:\n",
    "    print(\"The system is not controllable.\")\n"
   ]
  }
 ],
 "metadata": {
  "kernelspec": {
   "display_name": "Python 3",
   "language": "python",
   "name": "python3"
  },
  "language_info": {
   "codemirror_mode": {
    "name": "ipython",
    "version": 3
   },
   "file_extension": ".py",
   "mimetype": "text/x-python",
   "name": "python",
   "nbconvert_exporter": "python",
   "pygments_lexer": "ipython3",
   "version": "3.10.8"
  }
 },
 "nbformat": 4,
 "nbformat_minor": 2
}
