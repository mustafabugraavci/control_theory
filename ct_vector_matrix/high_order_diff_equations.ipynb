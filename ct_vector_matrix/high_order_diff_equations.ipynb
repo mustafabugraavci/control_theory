{
 "cells": [
  {
   "cell_type": "code",
   "execution_count": 1,
   "metadata": {},
   "outputs": [
    {
     "name": "stdout",
     "output_type": "stream",
     "text": [
      "Second-order ODE:\n",
      "Eq(2*x(t) + Derivative(x(t), (t, 2)), Derivative(u(t), t))\n"
     ]
    }
   ],
   "source": [
    "import sympy as sp\n",
    "\n",
    "# Define symbols\n",
    "t = sp.symbols('t')\n",
    "x = sp.Function('x')(t)\n",
    "u = sp.Function('u')(t)\n",
    "\n",
    "# Define the first-order equation of state\n",
    "equation_of_state = sp.Eq(sp.diff(x, t) + 2*x, u)\n",
    "\n",
    "# Transform the first-order equation into a second-order ODE\n",
    "second_order_ode = equation_of_state.subs(sp.diff(x, t), sp.symbols('y'))\n",
    "second_order_ode = sp.Eq(sp.diff(x, t, t) + 2*x, sp.diff(u, t))\n",
    "\n",
    "# Print the second-order ODE\n",
    "print(\"Second-order ODE:\")\n",
    "print(second_order_ode)\n"
   ]
  }
 ],
 "metadata": {
  "kernelspec": {
   "display_name": "Python 3",
   "language": "python",
   "name": "python3"
  },
  "language_info": {
   "codemirror_mode": {
    "name": "ipython",
    "version": 3
   },
   "file_extension": ".py",
   "mimetype": "text/x-python",
   "name": "python",
   "nbconvert_exporter": "python",
   "pygments_lexer": "ipython3",
   "version": "3.10.8"
  }
 },
 "nbformat": 4,
 "nbformat_minor": 2
}
