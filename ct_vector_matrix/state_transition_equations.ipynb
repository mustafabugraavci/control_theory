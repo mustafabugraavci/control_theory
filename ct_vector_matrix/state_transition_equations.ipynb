{
 "cells": [
  {
   "cell_type": "code",
   "execution_count": 1,
   "metadata": {},
   "outputs": [
    {
     "name": "stdout",
     "output_type": "stream",
     "text": [
      "State Transition Matrix at t = 5:\n",
      "[[-1.46221316e-05  3.62870830e-05]\n",
      " [-3.62870830e-05 -5.09092145e-05]]\n"
     ]
    }
   ],
   "source": [
    "import numpy as np\n",
    "from scipy.linalg import expm\n",
    "\n",
    "# System matrices\n",
    "A = np.array([[-1, 2],\n",
    "              [-2, -3]])\n",
    "B = np.array([[1],\n",
    "              [0]])\n",
    "\n",
    "# Time span\n",
    "t_span = np.linspace(0, 5, 100)\n",
    "\n",
    "# Compute State Transition Matrix\n",
    "def state_transition_matrix(t):\n",
    "    return expm(A * t)\n",
    "\n",
    "# Calculate STM for each time in t_span\n",
    "stm_values = [state_transition_matrix(t) for t in t_span]\n",
    "\n",
    "# Print the State Transition Matrix at t = 5\n",
    "print(\"State Transition Matrix at t = 5:\")\n",
    "print(stm_values[-1])"
   ]
  }
 ],
 "metadata": {
  "kernelspec": {
   "display_name": "Python 3",
   "language": "python",
   "name": "python3"
  },
  "language_info": {
   "codemirror_mode": {
    "name": "ipython",
    "version": 3
   },
   "file_extension": ".py",
   "mimetype": "text/x-python",
   "name": "python",
   "nbconvert_exporter": "python",
   "pygments_lexer": "ipython3",
   "version": "3.10.8"
  }
 },
 "nbformat": 4,
 "nbformat_minor": 2
}
