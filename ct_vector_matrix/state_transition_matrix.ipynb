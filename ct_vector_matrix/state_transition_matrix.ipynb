{
 "cells": [
  {
   "cell_type": "code",
   "execution_count": 3,
   "metadata": {},
   "outputs": [
    {
     "name": "stdout",
     "output_type": "stream",
     "text": [
      "State Transition Matrix at t = 5:\n",
      "[[-2.06564240e-07  2.93337161e-07]\n",
      " [-5.86674322e-07  3.80110082e-07]]\n"
     ]
    }
   ],
   "source": [
    "import numpy as np\n",
    "from scipy.linalg import expm, sinm, cosm\n",
    "\n",
    "# System matrix\n",
    "A = np.array([[-2, -1],\n",
    "              [2, -4]])\n",
    "\n",
    "# Time span\n",
    "t_span = np.linspace(0, 5, 100)\n",
    "\n",
    "# Calculate State Transition Matrix\n",
    "def state_transition_matrix(t):\n",
    "    return np.dot(expm(A * t), np.eye(2))\n",
    "\n",
    "# Calculate STM for each time in t_span\n",
    "stm_values = [state_transition_matrix(t) for t in t_span]\n",
    "\n",
    "# Print the State Transition Matrix at t = 5\n",
    "print(\"State Transition Matrix at t = 5:\")\n",
    "print(stm_values[-1])\n"
   ]
  }
 ],
 "metadata": {
  "kernelspec": {
   "display_name": "Python 3",
   "language": "python",
   "name": "python3"
  },
  "language_info": {
   "codemirror_mode": {
    "name": "ipython",
    "version": 3
   },
   "file_extension": ".py",
   "mimetype": "text/x-python",
   "name": "python",
   "nbconvert_exporter": "python",
   "pygments_lexer": "ipython3",
   "version": "3.10.8"
  }
 },
 "nbformat": 4,
 "nbformat_minor": 2
}
